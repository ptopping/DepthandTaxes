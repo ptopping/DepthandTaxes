{
 "cells": [
  {
   "cell_type": "code",
   "execution_count": 1,
   "metadata": {},
   "outputs": [],
   "source": [
    "import pandas as pd\n",
    "import seaborn as sns"
   ]
  },
  {
   "cell_type": "code",
   "execution_count": 2,
   "metadata": {},
   "outputs": [],
   "source": [
    "sns.set_style('darkgrid')"
   ]
  },
  {
   "cell_type": "code",
   "execution_count": 3,
   "metadata": {},
   "outputs": [],
   "source": [
    "def frameget(year):\n",
    "    url = 'http://www.sports-reference.com/cbb/play-index/tourney.cgi?request=1&match=single&year_min={0}&year_max={0}&seed_cmp=eq&opp_seed_cmp=eq&game_result=W&pts_diff_cmp=eq&order_by_single=date_game&order_by_combined=g'.format(year)\n",
    "    init = pd.read_html(url)\n",
    "    df = init[0]\n",
    "    df2 = df['School'].str.split(n=1,expand=True)\n",
    "    df2.rename(columns={0: 'WinnerSeed', 1: 'WinningTeam'},inplace= True)\n",
    "    df3 = df['Opponent'].str.split(n=1,expand=True)\n",
    "    df3.rename(columns={0: 'LoserSeed', 1: 'LosingTeam'},inplace= True)\n",
    "    df1 = df[['Rk', 'Year', 'Date', 'Region', 'Round', 'PTS', 'PTS.1', 'OT', 'Diff', 'Location']]\n",
    "    df = df.join(df2,how= 'left')\n",
    "    df = df.join(df3,how= 'left')\n",
    "    return df"
   ]
  },
  {
   "cell_type": "code",
   "execution_count": 4,
   "metadata": {},
   "outputs": [],
   "source": [
    "results = [frameget(y) for y in range(1985,2019)]\n",
    "results_df = pd.concat(results)\n",
    "results_df = results_df.loc[results_df['Year']!='Year',]\n",
    "results_df.Year = results_df.Year.apply(pd.to_numeric)\n",
    "results_df.drop(results_df[(results_df['Round']=='Opening Round') & ((results_df['Year']>=2001) & (results_df['Year']<=2010))].index ,axis= 0, inplace= True)\n",
    "results_df.drop(results_df[(results_df['Round']=='First Round') & ((results_df['Year']>=2011) & (results_df['Year']<=2015))].index, axis= 0, inplace= True)\n",
    "results_df.drop(results_df[(results_df['Round']=='First Four') & (results_df['Year']>=2016)].index, axis= 0, inplace= True)"
   ]
  },
  {
   "cell_type": "code",
   "execution_count": 5,
   "metadata": {},
   "outputs": [
    {
     "data": {
      "image/png": "[encoded data removed]",
      "text/plain": [
       "<Figure size 360x360 with 1 Axes>"
      ]
     },
     "metadata": {},
     "output_type": "display_data"
    }
   ],
   "source": [
    "g = sns.catplot(x='WinnerSeed', data=results_df, order = ['1','2','3','4','5','6','7','8','9','10','11','12','13','14','15','16'], kind='count')\n",
    "g.set_ylabels('Total Games Won')\n",
    "g.set_xlabels('Seed')\n",
    "g.despine(left=True)\n",
    "g.savefig('ncaabb_totalwins.png')"
   ]
  },
  {
   "cell_type": "code",
   "execution_count": 6,
   "metadata": {},
   "outputs": [],
   "source": [
    "secondround = results_df[((results_df['Round']=='Second Round') & ((results_df['Year'] <= 2010) | (results_df['Year'] > 2015))) | \n",
    "((results_df['Round']=='Third Round') & ((results_df['Year'] >= 2011) & (results_df['Year'] <= 2015)))]"
   ]
  },
  {
   "cell_type": "code",
   "execution_count": 7,
   "metadata": {},
   "outputs": [],
   "source": [
    "games = secondround[['Year','WinnerSeed','LoserSeed']].melt(id_vars='Year')\n",
    "games.loc[games['variable'] == 'WinnerSeed','WIN2'] = 1\n",
    "games['WIN2'].fillna(0,inplace=True)"
   ]
  },
  {
   "cell_type": "code",
   "execution_count": 8,
   "metadata": {},
   "outputs": [
    {
     "name": "stderr",
     "output_type": "stream",
     "text": [
      "C:\\Users\\ptopp\\Anaconda3\\lib\\site-packages\\scipy\\stats\\stats.py:1713: FutureWarning: Using a non-tuple sequence for multidimensional indexing is deprecated; use `arr[tuple(seq)]` instead of `arr[seq]`. In the future this will be interpreted as an array index, `arr[np.array(seq)]`, which will result either in an error or a different result.\n",
      "  return np.add.reduce(sorted[indexer] * weights, axis=axis) / sumval\n"
     ]
    },
    {
     "data": {
      "image/png": "[encoded data removed]",
      "text/plain": [
       "<Figure size 360x360 with 1 Axes>"
      ]
     },
     "metadata": {},
     "output_type": "display_data"
    }
   ],
   "source": [
    "g = sns.catplot(x='value',y='WIN2', data=games, order = ['1','2','3','4','5','6','7','8','9','10','11','12','13','14','15','16'], kind='bar')\n",
    "g.set_ylabels('2nd Round Win Percentage')\n",
    "g.set_xlabels('Seed')\n",
    "g.despine(left=True)\n",
    "g.savefig('ncaabb_rd2winpct.png')"
   ]
  },
  {
   "cell_type": "code",
   "execution_count": null,
   "metadata": {},
   "outputs": [],
   "source": []
  }
 ],
 "metadata": {
  "kernelspec": {
   "display_name": "Python 3",
   "language": "python",
   "name": "python3"
  },
  "language_info": {
   "codemirror_mode": {
    "name": "ipython",
    "version": 3
   },
   "file_extension": ".py",
   "mimetype": "text/x-python",
   "name": "python",
   "nbconvert_exporter": "python",
   "pygments_lexer": "ipython3",
   "version": "3.7.0"
  }
 },
 "nbformat": 4,
 "nbformat_minor": 2
}
