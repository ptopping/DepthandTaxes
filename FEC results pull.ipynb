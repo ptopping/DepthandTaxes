{
 "cells": [
  {
   "cell_type": "code",
   "execution_count": 1,
   "metadata": {},
   "outputs": [],
   "source": [
    "from DepthandTaxes.tools import fecpull as fc\n",
    "import importlib"
   ]
  },
  {
   "cell_type": "code",
   "execution_count": 37,
   "metadata": {},
   "outputs": [
    {
     "data": {
      "text/plain": [
       "<module 'DepthandTaxes.tools.fecpull' from 'C:\\\\Users\\\\ptopp\\\\Documents\\\\DepthandTaxes\\\\DepthandTaxes\\\\tools\\\\fecpull.py'>"
      ]
     },
     "execution_count": 37,
     "metadata": {},
     "output_type": "execute_result"
    }
   ],
   "source": [
    "importlib.reload(fc)"
   ]
  },
  {
   "cell_type": "code",
   "execution_count": 28,
   "metadata": {},
   "outputs": [
    {
     "data": {
      "text/plain": [
       "Index([                              nan,               'STATEABBREVIATION',\n",
       "                                 'STATE',                               'D',\n",
       "                                'FECID#',                             '(I)',\n",
       "                  'CANDIDATENAME(First)',             'CANDIDATENAME(Last)',\n",
       "                         'CANDIDATENAME',                      'TOTALVOTES',\n",
       "                                 'PARTY',                    'PRIMARYVOTES',\n",
       "                              'PRIMARY%',                     'RUNOFFVOTES',\n",
       "                               'RUNOFF%',                    'GENERALVOTES',\n",
       "                              'GENERAL%',       'GERUNOFFELECTIONVOTES(LA)',\n",
       "                 'GERUNOFFELECTION%(LA)', 'COMBINEDGEPARTYTOTALS(CT,NY,SC)',\n",
       "                   'COMBINED%(CT,NY,SC)',               'GEWINNERINDICATOR',\n",
       "                             'FOOTNOTES'],\n",
       "      dtype='object')"
      ]
     },
     "execution_count": 28,
     "metadata": {},
     "output_type": "execute_result"
    }
   ],
   "source": [
    "x = fc.FECPull('federalelections2014',2014)\n",
    "x.make_headers(x.house,0).columns\n",
    "# x.labels.iloc[5:,]"
   ]
  },
  {
   "cell_type": "code",
   "execution_count": 39,
   "metadata": {},
   "outputs": [],
   "source": [
    "fc.FECPull('federalelections2016',2016).to_csv()"
   ]
  },
  {
   "cell_type": "code",
   "execution_count": 27,
   "metadata": {},
   "outputs": [
    {
     "data": {
      "text/html": [
       "<div>\n",
       "<style scoped>\n",
       "    .dataframe tbody tr th:only-of-type {\n",
       "        vertical-align: middle;\n",
       "    }\n",
       "\n",
       "    .dataframe tbody tr th {\n",
       "        vertical-align: top;\n",
       "    }\n",
       "\n",
       "    .dataframe thead th {\n",
       "        text-align: right;\n",
       "    }\n",
       "</style>\n",
       "<table border=\"1\" class=\"dataframe\">\n",
       "  <thead>\n",
       "    <tr style=\"text-align: right;\">\n",
       "      <th></th>\n",
       "      <th>nan</th>\n",
       "      <th>STATEABBREVIATION</th>\n",
       "      <th>STATE</th>\n",
       "      <th>D</th>\n",
       "      <th>FECID#</th>\n",
       "      <th>(I)</th>\n",
       "      <th>CANDIDATENAME(First)</th>\n",
       "      <th>CANDIDATENAME(Last)</th>\n",
       "      <th>CANDIDATENAME</th>\n",
       "      <th>TOTALVOTES</th>\n",
       "      <th>...</th>\n",
       "      <th>RUNOFFVOTES</th>\n",
       "      <th>RUNOFF%</th>\n",
       "      <th>GENERALVOTES</th>\n",
       "      <th>GENERAL%</th>\n",
       "      <th>GERUNOFFELECTIONVOTES(LA)</th>\n",
       "      <th>GERUNOFFELECTION%(LA)</th>\n",
       "      <th>COMBINEDGEPARTYTOTALS(CT,NY,SC)</th>\n",
       "      <th>COMBINED%(CT,NY,SC)</th>\n",
       "      <th>GEWINNERINDICATOR</th>\n",
       "      <th>FOOTNOTES</th>\n",
       "    </tr>\n",
       "    <tr>\n",
       "      <th>ROWID</th>\n",
       "      <th></th>\n",
       "      <th></th>\n",
       "      <th></th>\n",
       "      <th></th>\n",
       "      <th></th>\n",
       "      <th></th>\n",
       "      <th></th>\n",
       "      <th></th>\n",
       "      <th></th>\n",
       "      <th></th>\n",
       "      <th></th>\n",
       "      <th></th>\n",
       "      <th></th>\n",
       "      <th></th>\n",
       "      <th></th>\n",
       "      <th></th>\n",
       "      <th></th>\n",
       "      <th></th>\n",
       "      <th></th>\n",
       "      <th></th>\n",
       "      <th></th>\n",
       "    </tr>\n",
       "  </thead>\n",
       "  <tbody>\n",
       "    <tr>\n",
       "      <th>74</th>\n",
       "      <td>75</td>\n",
       "      <td>AS</td>\n",
       "      <td>American Samoa</td>\n",
       "      <td>00</td>\n",
       "      <td>H2AS00055</td>\n",
       "      <td>NaN</td>\n",
       "      <td>Tuā'au Kereti, Jr.</td>\n",
       "      <td>Māta'utia</td>\n",
       "      <td>Māta'utia, Tuā'au Kereti, Jr.</td>\n",
       "      <td>NaN</td>\n",
       "      <td>...</td>\n",
       "      <td>NaN</td>\n",
       "      <td>NaN</td>\n",
       "      <td>160</td>\n",
       "      <td>0.0156159</td>\n",
       "      <td>NaN</td>\n",
       "      <td>NaN</td>\n",
       "      <td>NaN</td>\n",
       "      <td>NaN</td>\n",
       "      <td>NaN</td>\n",
       "      <td>NaN</td>\n",
       "    </tr>\n",
       "  </tbody>\n",
       "</table>\n",
       "<p>1 rows × 23 columns</p>\n",
       "</div>"
      ],
      "text/plain": [
       "       NaN STATEABBREVIATION           STATE   D     FECID#  (I)  \\\n",
       "ROWID                                                              \n",
       "74      75                AS  American Samoa  00  H2AS00055  NaN   \n",
       "\n",
       "      CANDIDATENAME(First) CANDIDATENAME(Last)                  CANDIDATENAME  \\\n",
       "ROWID                                                                           \n",
       "74      Tuā'au Kereti, Jr.           Māta'utia  Māta'utia, Tuā'au Kereti, Jr.   \n",
       "\n",
       "      TOTALVOTES    ...    RUNOFFVOTES RUNOFF% GENERALVOTES   GENERAL%  \\\n",
       "ROWID               ...                                                  \n",
       "74           NaN    ...            NaN     NaN          160  0.0156159   \n",
       "\n",
       "      GERUNOFFELECTIONVOTES(LA) GERUNOFFELECTION%(LA)  \\\n",
       "ROWID                                                   \n",
       "74                          NaN                   NaN   \n",
       "\n",
       "      COMBINEDGEPARTYTOTALS(CT,NY,SC) COMBINED%(CT,NY,SC) GEWINNERINDICATOR  \\\n",
       "ROWID                                                                         \n",
       "74                                NaN                 NaN               NaN   \n",
       "\n",
       "      FOOTNOTES  \n",
       "ROWID            \n",
       "74          NaN  \n",
       "\n",
       "[1 rows x 23 columns]"
      ]
     },
     "execution_count": 27,
     "metadata": {},
     "output_type": "execute_result"
    }
   ],
   "source": [
    "find_code = x.house[x.house['CANDIDATENAME'].str.contains('\\u0101')==True]\n",
    "find_code\n",
    "# find_code.value_counts()"
   ]
  }
 ],
 "metadata": {
  "kernelspec": {
   "display_name": "Python 3",
   "language": "python",
   "name": "python3"
  },
  "language_info": {
   "codemirror_mode": {
    "name": "ipython",
    "version": 3
   },
   "file_extension": ".py",
   "mimetype": "text/x-python",
   "name": "python",
   "nbconvert_exporter": "python",
   "pygments_lexer": "ipython3",
   "version": "3.7.5"
  }
 },
 "nbformat": 4,
 "nbformat_minor": 2
}
